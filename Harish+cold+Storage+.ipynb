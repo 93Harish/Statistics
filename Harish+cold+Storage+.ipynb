{
 "cells": [
  {
   "cell_type": "code",
   "execution_count": 1,
   "id": "b1d676d0",
   "metadata": {},
   "outputs": [],
   "source": [
    "import pandas as pd\n",
    "import numpy as np\n",
    "import scipy.stats as f\n",
    "import matplotlib.pyplot as plt\n",
    "\n",
    "import seaborn as sns\n",
    "import scipy.stats as stats\n",
    "from scipy.stats import ttest_1samp, ttest_ind\n",
    "from statsmodels.stats.power import ttest_power\n",
    "%matplotlib inline"
   ]
  },
  {
   "cell_type": "markdown",
   "id": "13e8a0fb",
   "metadata": {},
   "source": [
    "Problem 1\n",
    "Cold Storage started its operations in Jan 2016. They are in the business of storing Pasteurized Fresh\n",
    "Whole or Skimmed Milk, Sweet Cream, Flavoured Milk Drinks. To ensure that there is no change of\n",
    "texture, body appearance, separation of fats the optimal temperature to be maintained is between 2º - 4º\n",
    "C.\n",
    "In the first year of business, they outsourced the plant maintenance work to a professional company with stiff\n",
    "penalty clauses. It was agreed that if it was statistically proven that the probability of temperature going\n",
    "outside the 2º - 4º C during the one-year contract was above 2.5% and less than 5% then the penalty would\n",
    "be 10% of AMC (annual maintenance case). In case it exceeded 5% then the penalty would be 25% of the\n",
    "AMC fee. The average temperature data at the date level is given in the file\n",
    "“Cold_Storage_Temp_Data_.csv”\n",
    "1. Find mean cold storage temperature for Summer, Winter, and Rainy Season. (7 marks)\n",
    "2. Find the overall mean for the full year. (7 marks)\n",
    "3. Find Standard Deviation for the full year. (7 marks)\n",
    "4. Assume Normal distribution, what is the probability of temperature having fallen below 2º C? (7 marks)\n",
    "5. Assume Normal distribution, what is the probability of temperature having gone above 4º C? (7 marks)\n",
    "6. What will be the penalty for the AMC Company? (5 marks)\n",
    "Dataset to be used for Problem 1:\n",
    "Cold_Storage_Temp_Data_.csv"
   ]
  },
  {
   "cell_type": "code",
   "execution_count": 2,
   "id": "b88987ed",
   "metadata": {},
   "outputs": [],
   "source": [
    "df = pd.read_csv('Cold_Storage_Temp_Data_-1.csv')"
   ]
  },
  {
   "cell_type": "code",
   "execution_count": 3,
   "id": "7e98af28",
   "metadata": {},
   "outputs": [
    {
     "data": {
      "text/html": [
       "<div>\n",
       "<style scoped>\n",
       "    .dataframe tbody tr th:only-of-type {\n",
       "        vertical-align: middle;\n",
       "    }\n",
       "\n",
       "    .dataframe tbody tr th {\n",
       "        vertical-align: top;\n",
       "    }\n",
       "\n",
       "    .dataframe thead th {\n",
       "        text-align: right;\n",
       "    }\n",
       "</style>\n",
       "<table border=\"1\" class=\"dataframe\">\n",
       "  <thead>\n",
       "    <tr style=\"text-align: right;\">\n",
       "      <th></th>\n",
       "      <th>Season</th>\n",
       "      <th>Month</th>\n",
       "      <th>Date</th>\n",
       "      <th>Temperature</th>\n",
       "    </tr>\n",
       "  </thead>\n",
       "  <tbody>\n",
       "    <tr>\n",
       "      <th>0</th>\n",
       "      <td>Winter</td>\n",
       "      <td>Jan</td>\n",
       "      <td>1</td>\n",
       "      <td>2.3</td>\n",
       "    </tr>\n",
       "    <tr>\n",
       "      <th>1</th>\n",
       "      <td>Winter</td>\n",
       "      <td>Jan</td>\n",
       "      <td>2</td>\n",
       "      <td>2.2</td>\n",
       "    </tr>\n",
       "    <tr>\n",
       "      <th>2</th>\n",
       "      <td>Winter</td>\n",
       "      <td>Jan</td>\n",
       "      <td>3</td>\n",
       "      <td>2.4</td>\n",
       "    </tr>\n",
       "    <tr>\n",
       "      <th>3</th>\n",
       "      <td>Winter</td>\n",
       "      <td>Jan</td>\n",
       "      <td>4</td>\n",
       "      <td>2.8</td>\n",
       "    </tr>\n",
       "    <tr>\n",
       "      <th>4</th>\n",
       "      <td>Winter</td>\n",
       "      <td>Jan</td>\n",
       "      <td>5</td>\n",
       "      <td>2.5</td>\n",
       "    </tr>\n",
       "  </tbody>\n",
       "</table>\n",
       "</div>"
      ],
      "text/plain": [
       "   Season Month  Date  Temperature\n",
       "0  Winter   Jan     1          2.3\n",
       "1  Winter   Jan     2          2.2\n",
       "2  Winter   Jan     3          2.4\n",
       "3  Winter   Jan     4          2.8\n",
       "4  Winter   Jan     5          2.5"
      ]
     },
     "execution_count": 3,
     "metadata": {},
     "output_type": "execute_result"
    }
   ],
   "source": [
    "df.head()"
   ]
  },
  {
   "cell_type": "code",
   "execution_count": 4,
   "id": "c391db21",
   "metadata": {},
   "outputs": [
    {
     "data": {
      "text/html": [
       "<div>\n",
       "<style scoped>\n",
       "    .dataframe tbody tr th:only-of-type {\n",
       "        vertical-align: middle;\n",
       "    }\n",
       "\n",
       "    .dataframe tbody tr th {\n",
       "        vertical-align: top;\n",
       "    }\n",
       "\n",
       "    .dataframe thead th {\n",
       "        text-align: right;\n",
       "    }\n",
       "</style>\n",
       "<table border=\"1\" class=\"dataframe\">\n",
       "  <thead>\n",
       "    <tr style=\"text-align: right;\">\n",
       "      <th></th>\n",
       "      <th>count</th>\n",
       "      <th>mean</th>\n",
       "      <th>std</th>\n",
       "      <th>min</th>\n",
       "      <th>25%</th>\n",
       "      <th>50%</th>\n",
       "      <th>75%</th>\n",
       "      <th>max</th>\n",
       "    </tr>\n",
       "  </thead>\n",
       "  <tbody>\n",
       "    <tr>\n",
       "      <th>Date</th>\n",
       "      <td>365.0</td>\n",
       "      <td>15.720548</td>\n",
       "      <td>8.808321</td>\n",
       "      <td>1.0</td>\n",
       "      <td>8.0</td>\n",
       "      <td>16.0</td>\n",
       "      <td>23.0</td>\n",
       "      <td>31.0</td>\n",
       "    </tr>\n",
       "    <tr>\n",
       "      <th>Temperature</th>\n",
       "      <td>365.0</td>\n",
       "      <td>3.002466</td>\n",
       "      <td>0.465832</td>\n",
       "      <td>1.7</td>\n",
       "      <td>2.7</td>\n",
       "      <td>3.0</td>\n",
       "      <td>3.3</td>\n",
       "      <td>4.5</td>\n",
       "    </tr>\n",
       "  </tbody>\n",
       "</table>\n",
       "</div>"
      ],
      "text/plain": [
       "             count       mean       std  min  25%   50%   75%   max\n",
       "Date         365.0  15.720548  8.808321  1.0  8.0  16.0  23.0  31.0\n",
       "Temperature  365.0   3.002466  0.465832  1.7  2.7   3.0   3.3   4.5"
      ]
     },
     "execution_count": 4,
     "metadata": {},
     "output_type": "execute_result"
    }
   ],
   "source": [
    "df.describe().T"
   ]
  },
  {
   "cell_type": "code",
   "execution_count": 5,
   "id": "a2badc70",
   "metadata": {},
   "outputs": [
    {
     "data": {
      "text/plain": [
       "(365, 4)"
      ]
     },
     "execution_count": 5,
     "metadata": {},
     "output_type": "execute_result"
    }
   ],
   "source": [
    "df.shape"
   ]
  },
  {
   "cell_type": "code",
   "execution_count": 6,
   "id": "792c976a",
   "metadata": {},
   "outputs": [
    {
     "data": {
      "text/plain": [
       "Season         0\n",
       "Month          0\n",
       "Date           0\n",
       "Temperature    0\n",
       "dtype: int64"
      ]
     },
     "execution_count": 6,
     "metadata": {},
     "output_type": "execute_result"
    }
   ],
   "source": [
    "df.isna().sum()"
   ]
  },
  {
   "cell_type": "code",
   "execution_count": 7,
   "id": "bc1092d7",
   "metadata": {},
   "outputs": [
    {
     "data": {
      "text/html": [
       "<div>\n",
       "<style scoped>\n",
       "    .dataframe tbody tr th:only-of-type {\n",
       "        vertical-align: middle;\n",
       "    }\n",
       "\n",
       "    .dataframe tbody tr th {\n",
       "        vertical-align: top;\n",
       "    }\n",
       "\n",
       "    .dataframe thead th {\n",
       "        text-align: right;\n",
       "    }\n",
       "</style>\n",
       "<table border=\"1\" class=\"dataframe\">\n",
       "  <thead>\n",
       "    <tr style=\"text-align: right;\">\n",
       "      <th></th>\n",
       "      <th>Season</th>\n",
       "      <th>Month</th>\n",
       "      <th>Date</th>\n",
       "      <th>Temperature</th>\n",
       "    </tr>\n",
       "  </thead>\n",
       "  <tbody>\n",
       "    <tr>\n",
       "      <th>0</th>\n",
       "      <td>Winter</td>\n",
       "      <td>Jan</td>\n",
       "      <td>1</td>\n",
       "      <td>2.3</td>\n",
       "    </tr>\n",
       "    <tr>\n",
       "      <th>1</th>\n",
       "      <td>Winter</td>\n",
       "      <td>Jan</td>\n",
       "      <td>2</td>\n",
       "      <td>2.2</td>\n",
       "    </tr>\n",
       "    <tr>\n",
       "      <th>2</th>\n",
       "      <td>Winter</td>\n",
       "      <td>Jan</td>\n",
       "      <td>3</td>\n",
       "      <td>2.4</td>\n",
       "    </tr>\n",
       "    <tr>\n",
       "      <th>3</th>\n",
       "      <td>Winter</td>\n",
       "      <td>Jan</td>\n",
       "      <td>4</td>\n",
       "      <td>2.8</td>\n",
       "    </tr>\n",
       "    <tr>\n",
       "      <th>4</th>\n",
       "      <td>Winter</td>\n",
       "      <td>Jan</td>\n",
       "      <td>5</td>\n",
       "      <td>2.5</td>\n",
       "    </tr>\n",
       "  </tbody>\n",
       "</table>\n",
       "</div>"
      ],
      "text/plain": [
       "   Season Month  Date  Temperature\n",
       "0  Winter   Jan     1          2.3\n",
       "1  Winter   Jan     2          2.2\n",
       "2  Winter   Jan     3          2.4\n",
       "3  Winter   Jan     4          2.8\n",
       "4  Winter   Jan     5          2.5"
      ]
     },
     "execution_count": 7,
     "metadata": {},
     "output_type": "execute_result"
    }
   ],
   "source": [
    "df.head()"
   ]
  },
  {
   "cell_type": "code",
   "execution_count": 8,
   "id": "d1ce3817",
   "metadata": {},
   "outputs": [
    {
     "name": "stdout",
     "output_type": "stream",
     "text": [
      "<class 'pandas.core.frame.DataFrame'>\n",
      "RangeIndex: 365 entries, 0 to 364\n",
      "Data columns (total 4 columns):\n",
      " #   Column       Non-Null Count  Dtype  \n",
      "---  ------       --------------  -----  \n",
      " 0   Season       365 non-null    object \n",
      " 1   Month        365 non-null    object \n",
      " 2   Date         365 non-null    int64  \n",
      " 3   Temperature  365 non-null    float64\n",
      "dtypes: float64(1), int64(1), object(2)\n",
      "memory usage: 11.5+ KB\n"
     ]
    }
   ],
   "source": [
    "df.info()"
   ]
  },
  {
   "cell_type": "markdown",
   "id": "5a027139",
   "metadata": {},
   "source": [
    "# Find mean cold storage temperature for Summer, Winter, and Rainy Season. (7 marks)"
   ]
  },
  {
   "cell_type": "code",
   "execution_count": 9,
   "id": "8320a838",
   "metadata": {},
   "outputs": [
    {
     "data": {
      "text/plain": [
       "Season\n",
       "Rainy     122\n",
       "Summer    120\n",
       "Winter    123\n",
       "dtype: int64"
      ]
     },
     "execution_count": 9,
     "metadata": {},
     "output_type": "execute_result"
    }
   ],
   "source": [
    "pd.crosstab(index=df['Temperature'], columns=df['Season']).sum()\n"
   ]
  },
  {
   "cell_type": "code",
   "execution_count": 10,
   "id": "9d4b938f",
   "metadata": {},
   "outputs": [
    {
     "name": "stdout",
     "output_type": "stream",
     "text": [
      "Rainy = 3.0877049180327867\n",
      "Summer = 3.1475\n",
      "Winter = 2.7764227642276422\n"
     ]
    }
   ],
   "source": [
    "\n",
    "#The mean of Seasons are as below. The Total of Objects of Season is above.\n",
    "\n",
    "#Sum\t3.15\n",
    "#Win\t3\n",
    "#Rainy\t3.09\n",
    "\n",
    "#Mean = Sum of Objects/Number of Objects.\n",
    "\n",
    "Rainy = 376.7/122\n",
    "print('Rainy =',Rainy)\n",
    "\n",
    "Summer = 377.7/120\n",
    "print('Summer =',Summer)\n",
    "\n",
    "Winter = 341.5/123\n",
    "print('Winter =',Winter)\n"
   ]
  },
  {
   "cell_type": "markdown",
   "id": "77d677c3",
   "metadata": {},
   "source": [
    "# Find the overall mean for the full year"
   ]
  },
  {
   "cell_type": "code",
   "execution_count": 11,
   "id": "45cc3733",
   "metadata": {},
   "outputs": [
    {
     "data": {
      "text/plain": [
       "121.66666666666667"
      ]
     },
     "execution_count": 11,
     "metadata": {},
     "output_type": "execute_result"
    }
   ],
   "source": [
    "pd.crosstab(index=df['Temperature'], columns=df['Season']).sum().mean()"
   ]
  },
  {
   "cell_type": "code",
   "execution_count": 12,
   "id": "b8f78082",
   "metadata": {},
   "outputs": [
    {
     "name": "stdout",
     "output_type": "stream",
     "text": [
      "Overall mean of Temperature for the full year is 3.0024657534246546\n"
     ]
    }
   ],
   "source": [
    "df_mean = df.Temperature.mean()\n",
    "print('Overall mean of Temperature for the full year is',df_mean)"
   ]
  },
  {
   "cell_type": "markdown",
   "id": "b5d7ba29",
   "metadata": {},
   "source": [
    "# Find Standard Deviation for the full year."
   ]
  },
  {
   "cell_type": "code",
   "execution_count": 13,
   "id": "909a0439",
   "metadata": {},
   "outputs": [
    {
     "data": {
      "text/plain": [
       "1.5275252316519468"
      ]
     },
     "execution_count": 13,
     "metadata": {},
     "output_type": "execute_result"
    }
   ],
   "source": [
    "pd.crosstab(index=df['Temperature'], columns=df['Season']).sum().std()"
   ]
  },
  {
   "cell_type": "code",
   "execution_count": 14,
   "id": "c48e8cd1",
   "metadata": {},
   "outputs": [
    {
     "name": "stdout",
     "output_type": "stream",
     "text": [
      "Standard Deviation of Temperature for the full year is 0.4658319416510761\n"
     ]
    }
   ],
   "source": [
    "df_std = df.Temperature.std()\n",
    "print ('Standard Deviation of Temperature for the full year is',df_std)"
   ]
  },
  {
   "cell_type": "markdown",
   "id": "36e4aab5",
   "metadata": {},
   "source": [
    "# Assume Normal distribution, what is the probability of temperature having fallen below 2º C?"
   ]
  },
  {
   "cell_type": "code",
   "execution_count": 15,
   "id": "6acfff0e",
   "metadata": {},
   "outputs": [
    {
     "data": {
      "text/plain": [
       "<AxesSubplot:xlabel='Temperature', ylabel='count'>"
      ]
     },
     "execution_count": 15,
     "metadata": {},
     "output_type": "execute_result"
    },
    {
     "data": {
      "image/png": "[encoded data removed]",
      "text/plain": [
       "<Figure size 1440x1080 with 1 Axes>"
      ]
     },
     "metadata": {
      "needs_background": "light"
     },
     "output_type": "display_data"
    }
   ],
   "source": [
    "import seaborn as sns\n",
    "plt.figure(figsize=(20,15))\n",
    "sns.countplot(x=\"Temperature\", data=df)"
   ]
  },
  {
   "cell_type": "code",
   "execution_count": 16,
   "id": "d8731c58",
   "metadata": {},
   "outputs": [
    {
     "data": {
      "text/html": [
       "<div>\n",
       "<style scoped>\n",
       "    .dataframe tbody tr th:only-of-type {\n",
       "        vertical-align: middle;\n",
       "    }\n",
       "\n",
       "    .dataframe tbody tr th {\n",
       "        vertical-align: top;\n",
       "    }\n",
       "\n",
       "    .dataframe thead th {\n",
       "        text-align: right;\n",
       "    }\n",
       "</style>\n",
       "<table border=\"1\" class=\"dataframe\">\n",
       "  <thead>\n",
       "    <tr style=\"text-align: right;\">\n",
       "      <th></th>\n",
       "      <th>Season</th>\n",
       "      <th>Month</th>\n",
       "      <th>Date</th>\n",
       "      <th>Temperature</th>\n",
       "    </tr>\n",
       "  </thead>\n",
       "  <tbody>\n",
       "    <tr>\n",
       "      <th>0</th>\n",
       "      <td>Winter</td>\n",
       "      <td>Jan</td>\n",
       "      <td>1</td>\n",
       "      <td>2.3</td>\n",
       "    </tr>\n",
       "    <tr>\n",
       "      <th>1</th>\n",
       "      <td>Winter</td>\n",
       "      <td>Jan</td>\n",
       "      <td>2</td>\n",
       "      <td>2.2</td>\n",
       "    </tr>\n",
       "    <tr>\n",
       "      <th>2</th>\n",
       "      <td>Winter</td>\n",
       "      <td>Jan</td>\n",
       "      <td>3</td>\n",
       "      <td>2.4</td>\n",
       "    </tr>\n",
       "    <tr>\n",
       "      <th>3</th>\n",
       "      <td>Winter</td>\n",
       "      <td>Jan</td>\n",
       "      <td>4</td>\n",
       "      <td>2.8</td>\n",
       "    </tr>\n",
       "    <tr>\n",
       "      <th>4</th>\n",
       "      <td>Winter</td>\n",
       "      <td>Jan</td>\n",
       "      <td>5</td>\n",
       "      <td>2.5</td>\n",
       "    </tr>\n",
       "  </tbody>\n",
       "</table>\n",
       "</div>"
      ],
      "text/plain": [
       "   Season Month  Date  Temperature\n",
       "0  Winter   Jan     1          2.3\n",
       "1  Winter   Jan     2          2.2\n",
       "2  Winter   Jan     3          2.4\n",
       "3  Winter   Jan     4          2.8\n",
       "4  Winter   Jan     5          2.5"
      ]
     },
     "execution_count": 16,
     "metadata": {},
     "output_type": "execute_result"
    }
   ],
   "source": [
    "df.head()"
   ]
  },
  {
   "cell_type": "code",
   "execution_count": 17,
   "id": "b5dda6e5",
   "metadata": {},
   "outputs": [
    {
     "data": {
      "text/plain": [
       "3.0024657534246546"
      ]
     },
     "execution_count": 17,
     "metadata": {},
     "output_type": "execute_result"
    }
   ],
   "source": [
    "mean = df.Temperature.mean()\n",
    "mean"
   ]
  },
  {
   "cell_type": "code",
   "execution_count": 18,
   "id": "8881b012",
   "metadata": {},
   "outputs": [
    {
     "data": {
      "text/plain": [
       "0.4658319416510761"
      ]
     },
     "execution_count": 18,
     "metadata": {},
     "output_type": "execute_result"
    }
   ],
   "source": [
    "std = df.Temperature.std()\n",
    "std"
   ]
  },
  {
   "cell_type": "code",
   "execution_count": 19,
   "id": "0ab6443a",
   "metadata": {
    "scrolled": true
   },
   "outputs": [
    {
     "data": {
      "text/plain": [
       "-2.151990157376403"
      ]
     },
     "execution_count": 19,
     "metadata": {},
     "output_type": "execute_result"
    }
   ],
   "source": [
    "#Standard Deviation of Temperature for the full year is 0.4658319416510761.\n",
    "#Overall mean of Temperature for the full year is 3.0024657534246546.\n",
    "\n",
    "#Looking at the quest we need to find the probability of Temp falling below 2 Degree Celcius. \n",
    "#putting it into formula z = x - Mu /@. (Mu = Mean, @ =  Standard Daviation)\n",
    "\n",
    "z = (2 - 3.0024657534246546) / 0.4658319416510761\n",
    "z\n",
    "\n",
    "\n"
   ]
  },
  {
   "cell_type": "code",
   "execution_count": 20,
   "id": "f28539a2",
   "metadata": {},
   "outputs": [
    {
     "data": {
      "text/plain": [
       "-2.0"
      ]
     },
     "execution_count": 20,
     "metadata": {},
     "output_type": "execute_result"
    }
   ],
   "source": [
    "#Converting it into a whole number then the calculation is as below.\n",
    "\n",
    "#Standard Deviation of Temperature for the full year is 0.4658319416510761 = 0.5.\n",
    "#Overall mean of Temperature for the full year is 3.0024657534246546 = 3.\n",
    "\n",
    "#Looking at the quest we need to find the probability of Temp falling below 2 Degree Celcius. \n",
    "#putting it into formula z = x - Mu /@. (Mu = Mean, @ =  Standard Daviation)\n",
    "\n",
    "z1 = (2 - 3.00) / 0.5\n",
    "z1\n",
    "\n"
   ]
  },
  {
   "cell_type": "code",
   "execution_count": 21,
   "id": "673337e3",
   "metadata": {},
   "outputs": [
    {
     "name": "stdout",
     "output_type": "stream",
     "text": [
      "0.015699064791364483\n"
     ]
    }
   ],
   "source": [
    "print(stats.norm.cdf(-2.151990157376403))\n"
   ]
  },
  {
   "cell_type": "markdown",
   "id": "dc9ecabb",
   "metadata": {},
   "source": [
    "This denotes that 1% is the probability of temperature having fallen below 2º C"
   ]
  },
  {
   "cell_type": "code",
   "execution_count": 22,
   "id": "6df8f648",
   "metadata": {},
   "outputs": [
    {
     "name": "stdout",
     "output_type": "stream",
     "text": [
      "0.022750131948179195\n"
     ]
    }
   ],
   "source": [
    "print(stats.norm.cdf(-2.0))"
   ]
  },
  {
   "cell_type": "markdown",
   "id": "67726e24",
   "metadata": {},
   "source": [
    "This denotes that 2% is the probability of temperature having fallen below 2º C"
   ]
  },
  {
   "cell_type": "markdown",
   "id": "755c6510",
   "metadata": {},
   "source": [
    "# Assume Normal distribution, what is the probability of temperature having gone above 4º C? (7 marks)\n"
   ]
  },
  {
   "cell_type": "code",
   "execution_count": 23,
   "id": "b2a16de7",
   "metadata": {},
   "outputs": [
    {
     "data": {
      "text/plain": [
       "<AxesSubplot:xlabel='Temperature', ylabel='count'>"
      ]
     },
     "execution_count": 23,
     "metadata": {},
     "output_type": "execute_result"
    },
    {
     "data": {
      "image/png": "[encoded data removed]",
      "text/plain": [
       "<Figure size 1440x1080 with 1 Axes>"
      ]
     },
     "metadata": {
      "needs_background": "light"
     },
     "output_type": "display_data"
    }
   ],
   "source": [
    "plt.figure(figsize=(20,15))\n",
    "sns.countplot(x=\"Temperature\", data=df)"
   ]
  },
  {
   "cell_type": "code",
   "execution_count": 24,
   "id": "d81d258b",
   "metadata": {},
   "outputs": [
    {
     "data": {
      "text/plain": [
       "2.146236559139785"
      ]
     },
     "execution_count": 24,
     "metadata": {},
     "output_type": "execute_result"
    }
   ],
   "source": [
    "#Calculating the Z score.\n",
    "Z = (4 - 3.002) / 0.465\n",
    "Z\n"
   ]
  },
  {
   "cell_type": "markdown",
   "id": "1dbab794",
   "metadata": {},
   "source": [
    "We can round this 2.141403706752536 result to 2.2."
   ]
  },
  {
   "cell_type": "code",
   "execution_count": 25,
   "id": "c1e2605d",
   "metadata": {},
   "outputs": [
    {
     "data": {
      "text/plain": [
       "2.0"
      ]
     },
     "execution_count": 25,
     "metadata": {},
     "output_type": "execute_result"
    }
   ],
   "source": [
    "Z1= (4 - 3.00) / 0.5\n",
    "Z1\n"
   ]
  },
  {
   "cell_type": "code",
   "execution_count": 26,
   "id": "3405c6ec",
   "metadata": {},
   "outputs": [
    {
     "data": {
      "text/plain": [
       "0.015927055086573216"
      ]
     },
     "execution_count": 26,
     "metadata": {},
     "output_type": "execute_result"
    }
   ],
   "source": [
    "1 - stats.norm.cdf(2.146236559139785)"
   ]
  },
  {
   "cell_type": "markdown",
   "id": "e212e25d",
   "metadata": {},
   "source": [
    "This can denote that 1% s the probability of temperature having gone above 4º C. "
   ]
  },
  {
   "cell_type": "code",
   "execution_count": 27,
   "id": "1e9a7cd1",
   "metadata": {},
   "outputs": [
    {
     "data": {
      "text/plain": [
       "0.02275013194817921"
      ]
     },
     "execution_count": 27,
     "metadata": {},
     "output_type": "execute_result"
    }
   ],
   "source": [
    "1 - stats.norm.cdf(2.0)"
   ]
  },
  {
   "cell_type": "markdown",
   "id": "eb4f9a07",
   "metadata": {},
   "source": [
    "This can denote that 2% is the probability of temperature having gone above 4º C. "
   ]
  },
  {
   "cell_type": "markdown",
   "id": "014883a4",
   "metadata": {},
   "source": [
    "# What will be the penalty for the AMC Company? (5 marks) "
   ]
  },
  {
   "cell_type": "markdown",
   "id": "22528526",
   "metadata": {},
   "source": [
    "It was agreed that if it was statistically proven that the probability of temperature going outside the 2º - 4º C during the one-year contract was above 2.5% and less than 5% then the penalty would be 10% of AMC (annual maintenance case). In case it exceeded 5% then the penalty would be 25% of the AMC fee. "
   ]
  },
  {
   "cell_type": "markdown",
   "id": "2517a4f4",
   "metadata": {},
   "source": [
    "Hence Looking at the Statistical Data we can conclude that that AMC Company would not pay any Penalty."
   ]
  },
  {
   "cell_type": "markdown",
   "id": "ce462ca7",
   "metadata": {},
   "source": [
    "# Problem 2\n",
    "\n",
    "In Mar 2018, Cold Storage started getting complaints from their clients that they have been getting complaints from\n",
    "end consumers of the dairy products going sour and often smelling. On getting these complaints, the supervisor\n",
    "pulls out data of the last 35 days’ temperatures. As a safety measure, the Supervisor has been vigilant to maintain\n",
    "the mean temperature 3.9º C or below.\n",
    "Assume 3.9º C as the upper acceptable mean temperature and at alpha = 0.1 do you feel that there is a\n",
    "need for some corrective action in the Cold Storage Plant or is it that the problem is from the procurement\n",
    "side from where Cold Storage is getting the Dairy Products. The data of the last 35 days is in\n",
    "“Cold_Storage_Mar2018_.csv”\n",
    "1. Which Hypothesis test shall be performed to check if corrective action is needed at the cold storage\n",
    "plant? Justify your answer. (6 marks)\n",
    "2. State the Hypothesis and do the necessary calculations to accept or reject the corresponding null\n",
    "hypothesis. (8 marks)\n",
    "3. Give your inference. (6 marks)\n",
    "Dataset to be used for Problem 2: Cold_Storage_Mar2018_.csv"
   ]
  },
  {
   "cell_type": "markdown",
   "id": "26d6913a",
   "metadata": {},
   "source": [
    "# Which Hypothesis test shall be performed to check if corrective action is needed at the cold storage plant? Justify your answer. (6 marks)"
   ]
  },
  {
   "cell_type": "markdown",
   "id": "cb4d603e",
   "metadata": {},
   "source": [
    "Test = 1 sample t test \n",
    "Because we do not have the Standard Deviation provided.\n",
    "\n",
    "Level of Significance alpha = 0.1.\n",
    "\n",
    "STD not given hence T - Test\n",
    "\n",
    "n = 35\n",
    "\n",
    "Degree of Freedom: Since the sample is the same for both Sampling tests, we have N-1 degrees of freedom : 34.\n",
    "\n",
    "Since the sole purpose of the test is to check whether the Temperature was 3.9 Degree or more, we would prefer a 1 sample t test."
   ]
  },
  {
   "cell_type": "code",
   "execution_count": 28,
   "id": "4109a303",
   "metadata": {},
   "outputs": [],
   "source": [
    "import scipy.stats as stats\n",
    "from scipy.stats import ttest_1samp, ttest_ind\n",
    "from statsmodels.stats.power import ttest_power"
   ]
  },
  {
   "cell_type": "code",
   "execution_count": 29,
   "id": "2d32acf1",
   "metadata": {
    "scrolled": true
   },
   "outputs": [
    {
     "data": {
      "text/html": [
       "<div>\n",
       "<style scoped>\n",
       "    .dataframe tbody tr th:only-of-type {\n",
       "        vertical-align: middle;\n",
       "    }\n",
       "\n",
       "    .dataframe tbody tr th {\n",
       "        vertical-align: top;\n",
       "    }\n",
       "\n",
       "    .dataframe thead th {\n",
       "        text-align: right;\n",
       "    }\n",
       "</style>\n",
       "<table border=\"1\" class=\"dataframe\">\n",
       "  <thead>\n",
       "    <tr style=\"text-align: right;\">\n",
       "      <th></th>\n",
       "      <th>Season</th>\n",
       "      <th>Month</th>\n",
       "      <th>Date</th>\n",
       "      <th>Temperature</th>\n",
       "    </tr>\n",
       "  </thead>\n",
       "  <tbody>\n",
       "    <tr>\n",
       "      <th>0</th>\n",
       "      <td>Summer</td>\n",
       "      <td>Feb</td>\n",
       "      <td>11</td>\n",
       "      <td>4.0</td>\n",
       "    </tr>\n",
       "    <tr>\n",
       "      <th>1</th>\n",
       "      <td>Summer</td>\n",
       "      <td>Feb</td>\n",
       "      <td>12</td>\n",
       "      <td>3.9</td>\n",
       "    </tr>\n",
       "    <tr>\n",
       "      <th>2</th>\n",
       "      <td>Summer</td>\n",
       "      <td>Feb</td>\n",
       "      <td>13</td>\n",
       "      <td>3.9</td>\n",
       "    </tr>\n",
       "    <tr>\n",
       "      <th>3</th>\n",
       "      <td>Summer</td>\n",
       "      <td>Feb</td>\n",
       "      <td>14</td>\n",
       "      <td>4.0</td>\n",
       "    </tr>\n",
       "    <tr>\n",
       "      <th>4</th>\n",
       "      <td>Summer</td>\n",
       "      <td>Feb</td>\n",
       "      <td>15</td>\n",
       "      <td>3.8</td>\n",
       "    </tr>\n",
       "  </tbody>\n",
       "</table>\n",
       "</div>"
      ],
      "text/plain": [
       "   Season Month  Date   Temperature \n",
       "0  Summer   Feb    11            4.0\n",
       "1  Summer   Feb    12            3.9\n",
       "2  Summer   Feb    13            3.9\n",
       "3  Summer   Feb    14            4.0\n",
       "4  Summer   Feb    15            3.8"
      ]
     },
     "execution_count": 29,
     "metadata": {},
     "output_type": "execute_result"
    }
   ],
   "source": [
    "Cold = pd.read_csv('Cold_Storage_Mar2018_ (1).csv')\n",
    "Cold.head()"
   ]
  },
  {
   "cell_type": "code",
   "execution_count": 30,
   "id": "00e7c768",
   "metadata": {},
   "outputs": [
    {
     "data": {
      "text/html": [
       "<div>\n",
       "<style scoped>\n",
       "    .dataframe tbody tr th:only-of-type {\n",
       "        vertical-align: middle;\n",
       "    }\n",
       "\n",
       "    .dataframe tbody tr th {\n",
       "        vertical-align: top;\n",
       "    }\n",
       "\n",
       "    .dataframe thead th {\n",
       "        text-align: right;\n",
       "    }\n",
       "</style>\n",
       "<table border=\"1\" class=\"dataframe\">\n",
       "  <thead>\n",
       "    <tr style=\"text-align: right;\">\n",
       "      <th></th>\n",
       "      <th>Season</th>\n",
       "      <th>Month</th>\n",
       "      <th>Date</th>\n",
       "      <th>Temperature</th>\n",
       "    </tr>\n",
       "  </thead>\n",
       "  <tbody>\n",
       "    <tr>\n",
       "      <th>30</th>\n",
       "      <td>Summer</td>\n",
       "      <td>Mar</td>\n",
       "      <td>13</td>\n",
       "      <td>4.2</td>\n",
       "    </tr>\n",
       "    <tr>\n",
       "      <th>31</th>\n",
       "      <td>Summer</td>\n",
       "      <td>Mar</td>\n",
       "      <td>14</td>\n",
       "      <td>4.2</td>\n",
       "    </tr>\n",
       "    <tr>\n",
       "      <th>32</th>\n",
       "      <td>Summer</td>\n",
       "      <td>Mar</td>\n",
       "      <td>15</td>\n",
       "      <td>3.8</td>\n",
       "    </tr>\n",
       "    <tr>\n",
       "      <th>33</th>\n",
       "      <td>Summer</td>\n",
       "      <td>Mar</td>\n",
       "      <td>16</td>\n",
       "      <td>3.9</td>\n",
       "    </tr>\n",
       "    <tr>\n",
       "      <th>34</th>\n",
       "      <td>Summer</td>\n",
       "      <td>Mar</td>\n",
       "      <td>17</td>\n",
       "      <td>3.9</td>\n",
       "    </tr>\n",
       "  </tbody>\n",
       "</table>\n",
       "</div>"
      ],
      "text/plain": [
       "    Season Month  Date   Temperature \n",
       "30  Summer   Mar    13            4.2\n",
       "31  Summer   Mar    14            4.2\n",
       "32  Summer   Mar    15            3.8\n",
       "33  Summer   Mar    16            3.9\n",
       "34  Summer   Mar    17            3.9"
      ]
     },
     "execution_count": 30,
     "metadata": {},
     "output_type": "execute_result"
    }
   ],
   "source": [
    "Cold.tail()"
   ]
  },
  {
   "cell_type": "code",
   "execution_count": 31,
   "id": "4872a93b",
   "metadata": {},
   "outputs": [
    {
     "name": "stdout",
     "output_type": "stream",
     "text": [
      "<class 'pandas.core.frame.DataFrame'>\n",
      "RangeIndex: 35 entries, 0 to 34\n",
      "Data columns (total 4 columns):\n",
      " #   Column         Non-Null Count  Dtype  \n",
      "---  ------         --------------  -----  \n",
      " 0   Season         35 non-null     object \n",
      " 1   Month          35 non-null     object \n",
      " 2   Date           35 non-null     int64  \n",
      " 3    Temperature   35 non-null     float64\n",
      "dtypes: float64(1), int64(1), object(2)\n",
      "memory usage: 1.2+ KB\n"
     ]
    }
   ],
   "source": [
    "Cold.info()"
   ]
  },
  {
   "cell_type": "code",
   "execution_count": 32,
   "id": "5fd1dbe9",
   "metadata": {},
   "outputs": [
    {
     "data": {
      "text/plain": [
       "(35, 4)"
      ]
     },
     "execution_count": 32,
     "metadata": {},
     "output_type": "execute_result"
    }
   ],
   "source": [
    "Cold.shape"
   ]
  },
  {
   "cell_type": "code",
   "execution_count": 33,
   "id": "575cdccf",
   "metadata": {},
   "outputs": [
    {
     "data": {
      "text/html": [
       "<div>\n",
       "<style scoped>\n",
       "    .dataframe tbody tr th:only-of-type {\n",
       "        vertical-align: middle;\n",
       "    }\n",
       "\n",
       "    .dataframe tbody tr th {\n",
       "        vertical-align: top;\n",
       "    }\n",
       "\n",
       "    .dataframe thead th {\n",
       "        text-align: right;\n",
       "    }\n",
       "</style>\n",
       "<table border=\"1\" class=\"dataframe\">\n",
       "  <thead>\n",
       "    <tr style=\"text-align: right;\">\n",
       "      <th></th>\n",
       "      <th>Date</th>\n",
       "      <th>Temperature</th>\n",
       "    </tr>\n",
       "  </thead>\n",
       "  <tbody>\n",
       "    <tr>\n",
       "      <th>count</th>\n",
       "      <td>35.000000</td>\n",
       "      <td>35.000000</td>\n",
       "    </tr>\n",
       "    <tr>\n",
       "      <th>mean</th>\n",
       "      <td>14.400000</td>\n",
       "      <td>3.974286</td>\n",
       "    </tr>\n",
       "    <tr>\n",
       "      <th>std</th>\n",
       "      <td>7.389181</td>\n",
       "      <td>0.159674</td>\n",
       "    </tr>\n",
       "    <tr>\n",
       "      <th>min</th>\n",
       "      <td>1.000000</td>\n",
       "      <td>3.800000</td>\n",
       "    </tr>\n",
       "    <tr>\n",
       "      <th>25%</th>\n",
       "      <td>9.500000</td>\n",
       "      <td>3.900000</td>\n",
       "    </tr>\n",
       "    <tr>\n",
       "      <th>50%</th>\n",
       "      <td>14.000000</td>\n",
       "      <td>3.900000</td>\n",
       "    </tr>\n",
       "    <tr>\n",
       "      <th>75%</th>\n",
       "      <td>19.500000</td>\n",
       "      <td>4.100000</td>\n",
       "    </tr>\n",
       "    <tr>\n",
       "      <th>max</th>\n",
       "      <td>28.000000</td>\n",
       "      <td>4.600000</td>\n",
       "    </tr>\n",
       "  </tbody>\n",
       "</table>\n",
       "</div>"
      ],
      "text/plain": [
       "            Date   Temperature \n",
       "count  35.000000      35.000000\n",
       "mean   14.400000       3.974286\n",
       "std     7.389181       0.159674\n",
       "min     1.000000       3.800000\n",
       "25%     9.500000       3.900000\n",
       "50%    14.000000       3.900000\n",
       "75%    19.500000       4.100000\n",
       "max    28.000000       4.600000"
      ]
     },
     "execution_count": 33,
     "metadata": {},
     "output_type": "execute_result"
    }
   ],
   "source": [
    "Cold.describe()"
   ]
  },
  {
   "cell_type": "code",
   "execution_count": 34,
   "id": "2ac3829b",
   "metadata": {
    "scrolled": false
   },
   "outputs": [
    {
     "data": {
      "text/plain": [
       "Season           0\n",
       "Month            0\n",
       "Date             0\n",
       " Temperature     0\n",
       "dtype: int64"
      ]
     },
     "execution_count": 34,
     "metadata": {},
     "output_type": "execute_result"
    }
   ],
   "source": [
    "Cold.isna().sum()"
   ]
  },
  {
   "cell_type": "code",
   "execution_count": 35,
   "id": "64397848",
   "metadata": {},
   "outputs": [
    {
     "data": {
      "text/plain": [
       "0"
      ]
     },
     "execution_count": 35,
     "metadata": {},
     "output_type": "execute_result"
    }
   ],
   "source": [
    "Cold.duplicated().sum()"
   ]
  },
  {
   "cell_type": "markdown",
   "id": "8ff2d991",
   "metadata": {},
   "source": [
    "# State the Hypothesis and do the necessary calculations to accept or reject the corresponding null hypothesis. (8 marks)"
   ]
  },
  {
   "cell_type": "markdown",
   "id": "3f864a84",
   "metadata": {},
   "source": [
    "H0: The Mean Temperature was equal to 3.9 Degree.\n",
    "\n",
    "H1: The Mean Temperature was not equal and more than 3.9 Degree."
   ]
  },
  {
   "cell_type": "code",
   "execution_count": 36,
   "id": "b87c84c4",
   "metadata": {},
   "outputs": [
    {
     "data": {
      "text/plain": [
       "3.0024657534246546"
      ]
     },
     "execution_count": 36,
     "metadata": {},
     "output_type": "execute_result"
    }
   ],
   "source": [
    "mn = df.Temperature.mean()\n",
    "mn"
   ]
  },
  {
   "cell_type": "code",
   "execution_count": 37,
   "id": "b4544774",
   "metadata": {},
   "outputs": [
    {
     "name": "stdout",
     "output_type": "stream",
     "text": [
      "One sample t test \n",
      "t statistics: -36.81020164327708 P Values 9.399399989484991e-125\n"
     ]
    }
   ],
   "source": [
    "t_statistic, p_value = ttest_1samp(df['Temperature'],3.9)\n",
    "print('One sample t test \\nt statistics: {0} P Values {1}'.format(t_statistic, p_value))"
   ]
  },
  {
   "cell_type": "markdown",
   "id": "cf7d34c1",
   "metadata": {},
   "source": [
    "Per the Query, assumed 3.9º C as the upper acceptable mean temperature and at alpha = 0.1.\n",
    "\n",
    "As the P Value is less than alpha = 1. We have failed to Reject the Null Hypothesis.\n",
    "\n"
   ]
  },
  {
   "cell_type": "markdown",
   "id": "d6d5af76",
   "metadata": {},
   "source": [
    "# Give your inference. (6 marks)"
   ]
  },
  {
   "cell_type": "markdown",
   "id": "eabe303e",
   "metadata": {},
   "source": [
    "So considering the test results we can infer with the 99% confidence Level that the Temperature was equal to 3.9 Degrees in those days given in the Sample data."
   ]
  },
  {
   "cell_type": "code",
   "execution_count": null,
   "id": "b0087f95",
   "metadata": {},
   "outputs": [],
   "source": []
  }
 ],
 "metadata": {
  "kernelspec": {
   "display_name": "Python 3 (ipykernel)",
   "language": "python",
   "name": "python3"
  },
  "language_info": {
   "codemirror_mode": {
    "name": "ipython",
    "version": 3
   },
   "file_extension": ".py",
   "mimetype": "text/x-python",
   "name": "python",
   "nbconvert_exporter": "python",
   "pygments_lexer": "ipython3",
   "version": "3.9.7"
  }
 },
 "nbformat": 4,
 "nbformat_minor": 5
}
